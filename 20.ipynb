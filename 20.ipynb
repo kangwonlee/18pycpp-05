{
 "cells": [
  {
   "cell_type": "markdown",
   "metadata": {},
   "source": [
    "# Programming in lower level"
   ]
  },
  {
   "cell_type": "markdown",
   "metadata": {},
   "source": [
    "* Sometimes a control engineer may want to make computers to give commands to or read measurements from machines.\n",
    "\n"
   ]
  },
  {
   "cell_type": "markdown",
   "metadata": {},
   "source": [
    "* Understanding how computers work *under the hood* would be helpful in such situations.\n",
    "\n"
   ]
  },
  {
   "cell_type": "markdown",
   "metadata": {},
   "source": [
    "## Classes of computer memories"
   ]
  },
  {
   "cell_type": "markdown",
   "metadata": {},
   "source": [
    "memory | physical location | amount | speed | purpose\n",
    "-- | -- | -- | -- | --\n",
    "registers | CPU | very limited | fastest | operation, addressing, I/O\n",
    "cache | In or close to CPU | not much | Faster | accelerating information fetching\n",
    "main memory | motherboard RAM | GBs nowadays | fast | store code and data\n",
    "stack | within RAM | limited | RAM | store function call information\n",
    "heap | within RAM | less limited | RAM | allocate memory from here\n",
    "SSD | SSD | TBs? | Flash memory speed | preserve code and data\n",
    "HDD | HDD | TBs | Magnetic disk speed | preserve code and data\n",
    "\n"
   ]
  },
  {
   "cell_type": "markdown",
   "metadata": {},
   "source": [
    "* Following [figure](https://thenextweb.com/shareables/2011/12/26/this-is-what-a-5mb-hard-drive-looked-like-is-1956-required-a-forklift/) shows an eary [hard disk drive](https://en.wikipedia.org/wiki/IBM_305_RAMAC) of 5 Megabytes in 1950s."
   ]
  },
  {
   "cell_type": "code",
   "execution_count": null,
   "metadata": {},
   "outputs": [],
   "source": [
    "import IPython.display as disp\n",
    "\n"
   ]
  },
  {
   "cell_type": "code",
   "execution_count": null,
   "metadata": {},
   "outputs": [],
   "source": [
    "# https://stackoverflow.com/questions/32370281/how-to-include-image-or-picture-in-jupyter-notebook\n",
    "# https://stackoverflow.com/questions/28237210/image-does-not-display-in-ipython\n",
    "# https://stackoverflow.com/questions/7391945/how-do-i-read-image-data-from-a-url-in-python\n",
    "\n",
    "\n",
    "import PIL.Image\n",
    "import requests\n",
    "import io\n",
    "\n",
    "response = requests.get(\"https://cdn0.tnwcdn.com/wp-content/blogs.dir/1/files/2011/12/Screen-Shot-2011-12-26-at-18.38.18.png\")\n",
    "img = PIL.Image.open(io.BytesIO(response.content))\n",
    "disp.display(img)"
   ]
  },
  {
   "cell_type": "markdown",
   "metadata": {},
   "source": [
    "## Working with bits"
   ]
  },
  {
   "cell_type": "markdown",
   "metadata": {},
   "source": [
    "* To utilize certain features of microcontrollers, often times we need to turn on or off certain bits of certain memory location."
   ]
  },
  {
   "cell_type": "markdown",
   "metadata": {},
   "source": [
    "* The pointer of C/C++ is a suitable tool for this type of task."
   ]
  },
  {
   "cell_type": "markdown",
   "metadata": {},
   "source": [
    "* However, the smallest unit of memory that we can change is a byte; hence we may need to first read the current status of the particular byte, change that one bit, and then write the *bit pattern* to that byte."
   ]
  },
  {
   "cell_type": "markdown",
   "metadata": {},
   "source": [
    "### Revisiting `struct` and `union`"
   ]
  },
  {
   "cell_type": "markdown",
   "metadata": {},
   "source": [
    "* `struct` is a group of data.  An array is also a group of data.  Difference is, to access data in `struct`, we would use *field name*s; for arrays, indices."
   ]
  },
  {
   "cell_type": "markdown",
   "metadata": {},
   "source": [
    "* Also, *field*s of struct may have different types; for arrays, all same types."
   ]
  },
  {
   "cell_type": "markdown",
   "metadata": {},
   "source": [
    "* For each field of struct, we may specify its length in **bits**."
   ]
  },
  {
   "cell_type": "markdown",
   "metadata": {},
   "source": [
    "* Followinging example shows a 16bit color information."
   ]
  },
  {
   "cell_type": "markdown",
   "metadata": {},
   "source": [
    "``` C++\n",
    "#include <cstdint>\n",
    "\n",
    "// Josh Kunz, Bit-field Packing in GCC and Clang, https://jkz.wtf/bit-field-packing-in-gcc-and-clang\n",
    "struct high_color_tag{\n",
    "    uint16_t red:5;\n",
    "    uint16_t green:6;\n",
    "    uint16_t blue:5;\n",
    "};\n",
    "```\n",
    "\n"
   ]
  },
  {
   "cell_type": "markdown",
   "metadata": {},
   "source": [
    "* We can see that the sum of bits is `5 + 6 + 5 = 16`; two bytes."
   ]
  },
  {
   "cell_type": "markdown",
   "metadata": {},
   "source": [
    "* `struct` would allocate `red`, `green`, and `blue` values as follows."
   ]
  },
  {
   "cell_type": "code",
   "execution_count": null,
   "metadata": {
    "scrolled": true
   },
   "outputs": [],
   "source": [
    "# https://stackoverflow.com/questions/35160256/how-do-i-output-lists-as-a-table-in-jupyter-notebook\n",
    "# http://nbviewer.jupyter.org/github/ipython/ipython/blob/4.0.x/examples/IPython%20Kernel/Rich%20Output.ipynb\n",
    "\n",
    "import IPython.display as disp\n",
    "\n",
    "# number of bits\n",
    "n = 16\n",
    "nr = 5\n",
    "ng = 6\n",
    "nb = 5\n",
    "\n",
    "disp.display(\n",
    "    disp.Markdown(\n",
    "        '\\n'.join(\n",
    "            [\n",
    "                ' | '.join(str(k) for k in range(n-1, 0-1, -1)),\n",
    "                '|'.join(':---:' for k in range(1, n+1)),\n",
    "                ' | '.join(['`b`']*nb + ['`g`']*ng + ['`r`']*nr),\n",
    "            ],\n",
    "        )\n",
    "    )\n",
    ")\n",
    "\n"
   ]
  },
  {
   "cell_type": "markdown",
   "metadata": {},
   "source": [
    "* Following C++ code would show an example."
   ]
  },
  {
   "cell_type": "code",
   "execution_count": null,
   "metadata": {},
   "outputs": [],
   "source": [
    "%%writefile bit_field_struct.cpp\n",
    "\n",
    "#include <bitset>\n",
    "#include <cstdint>\n",
    "#include <cstdlib>\n",
    "#include <iomanip>\n",
    "#include <iostream>\n",
    "\n",
    "\n",
    "// Josh Kunz, Bit-field Packing in GCC and Clang, https://jkz.wtf/bit-field-packing-in-gcc-and-clang\n",
    "struct high_color_tag{\n",
    "    uint16_t red:5;\n",
    "    uint16_t green:6;\n",
    "    uint16_t blue:5;\n",
    "};\n",
    "\n",
    "\n",
    "union high_color_union_tag{\n",
    "    struct high_color_tag rgb_struct;\n",
    "    uint16_t hex;\n",
    "};\n",
    "\n",
    "\n",
    "int32_t main(const int32_t argn, const char * argv[]){\n",
    "    union high_color_union_tag rgb_union;\n",
    "    const int32_t n = 10;\n",
    "\n",
    "    int32_t r = 0, g = 0, b = 0, i = 0;\n",
    "    \n",
    "    std::cout << \"| `r` | `g` | `b` | `hex` |\" << '\\n';\n",
    "    std::cout << \"|:---:|:---:|:---:|:-----:|\" << '\\n';\n",
    "\n",
    "    for(i = 0; n > i; ++i){\n",
    "        r = rand() % (1 << 5);\n",
    "        g = rand() % (1 << 6);\n",
    "        b = rand() % (1 << 5);\n",
    "\n",
    "        rgb_union.rgb_struct.red = r;\n",
    "        rgb_union.rgb_struct.green = g;\n",
    "        rgb_union.rgb_struct.blue = b;\n",
    "\n",
    "        // https://stackoverflow.com/questions/7349689\n",
    "        std::bitset<5> b_r(r);\n",
    "        std::bitset<6> b_g(g);\n",
    "        std::bitset<6> b_b(b);\n",
    "        std::bitset<16> b_hex(rgb_union.hex);\n",
    "\n",
    "        std::cout << \"| \" << std::hex << std::setw(6) << b_r\n",
    "                    << \" | \" << std::setw(6) << b_g\n",
    "                    << \" | \" << std::setw(6) << b_b\n",
    "                    << \" | \" << std::setw(16) << b_hex\n",
    "                    << \" |\\n\";\n",
    "    }\n",
    "\n",
    "    // std::cout << \"sizeof(rgb_union.rgb_struct)\" << sizeof(rgb_union.rgb_struct) << '\\n';\n",
    "\n",
    "}\n",
    "\n"
   ]
  },
  {
   "cell_type": "code",
   "execution_count": null,
   "metadata": {},
   "outputs": [],
   "source": [
    "%%bash\n",
    "# Detect OS type because OSX may need different options\n",
    "# https://stackoverflow.com/questions/3466166/how-to-check-if-running-in-cygwin-mac-or-linux/18790824\n",
    "unameOut=\"$(uname -s)\"\n",
    "case \"${unameOut}\" in\n",
    "    Linux*)     machine=Linux;;\n",
    "    Darwin*)    machine=Mac;;\n",
    "    CYGWIN*)    machine=Cygwin;;\n",
    "    MINGW*)     machine=MinGw;;\n",
    "    *)          machine=\"UNKNOWN:${unameOut}\"\n",
    "esac\n",
    "\n",
    "\n",
    "if [ $machine == \"Linux\" ]; then\n",
    "    g++ -Wall -g bit_field_struct.cpp -o ./bit_field_struct -Wa,-adhln=bit_field_struct.s\n",
    "elif [ \"Mac\" == $machine ]; then\n",
    "    # https://stackoverflow.com/questions/10990018/\n",
    "    clang++ -S -mllvm --x86-asm-syntax=intel bit_field_struct.cpp\n",
    "    clang++ -Wall -g bit_field_struct.cpp -o bit_field_struct\n",
    "else\n",
    "    g++ -Wall -g bit_field_struct.cpp -o ./bit_field_struct.s -S\n",
    "    g++ -Wall -g bit_field_struct.cpp -o ./bit_field_struct\n",
    "fi\n",
    "\n"
   ]
  },
  {
   "cell_type": "code",
   "execution_count": null,
   "metadata": {},
   "outputs": [],
   "source": [
    "# https://stackoverflow.com/questions/4760215/running-shell-command-from-python-and-capturing-the-output\n",
    "# https://stackoverflow.com/questions/35160256/how-do-i-output-lists-as-a-table-in-jupyter-notebook\n",
    "import subprocess\n",
    "import IPython.display as disp\n",
    "\n",
    "result = subprocess.run(['./bit_field_struct'], stdout=subprocess.PIPE)\n",
    "\n",
    "disp.display(disp.Markdown(result.stdout.decode()))\n",
    "\n"
   ]
  },
  {
   "cell_type": "code",
   "execution_count": null,
   "metadata": {},
   "outputs": [],
   "source": [
    "%%bash\n",
    "\n",
    "rm bit_field_struct.cpp bit_field_struct\n",
    "\n"
   ]
  },
  {
   "cell_type": "code",
   "execution_count": null,
   "metadata": {},
   "outputs": [],
   "source": []
  }
 ],
 "metadata": {
  "kernelspec": {
   "display_name": "Python 3",
   "language": "python",
   "name": "python3"
  },
  "language_info": {
   "codemirror_mode": {
    "name": "ipython",
    "version": 3
   },
   "file_extension": ".py",
   "mimetype": "text/x-python",
   "name": "python",
   "nbconvert_exporter": "python",
   "pygments_lexer": "ipython3",
   "version": "3.6.5"
  }
 },
 "nbformat": 4,
 "nbformat_minor": 2
}
