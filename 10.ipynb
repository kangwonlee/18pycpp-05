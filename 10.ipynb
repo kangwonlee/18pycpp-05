{
 "cells": [
  {
   "cell_type": "markdown",
   "metadata": {},
   "source": [
    "# Cython"
   ]
  },
  {
   "cell_type": "markdown",
   "metadata": {},
   "source": [
    "* Cython is one of python's *dialects* to bridge between C and python."
   ]
  },
  {
   "cell_type": "markdown",
   "metadata": {},
   "source": [
    "* Following code block is an [example](https://stackoverflow.com/questions/35656604/running-cython-in-jupyter-ipython) of the cython code."
   ]
  },
  {
   "cell_type": "code",
   "execution_count": null,
   "metadata": {},
   "outputs": [],
   "source": [
    "%load_ext Cython\n",
    "# make cython feature avaiable in ipython \n",
    "\n"
   ]
  },
  {
   "cell_type": "code",
   "execution_count": null,
   "metadata": {},
   "outputs": [],
   "source": [
    "%%cython --annotate\n",
    "# with command above, ipython would regard this cell as cython\n",
    "# cell magic command \"%%\" must be on the first line of the cell\n",
    "# --annotate option would present c code from the cython code\n",
    "# later click on the + signs of the yellow highlight lines\n",
    "\n",
    "\n",
    "# declare a cython function\n",
    "def geo_prog_cython(double alpha, int n):\n",
    "    \"\"\"\n",
    "    Sum of a geographic sequence\n",
    "    Cython version\n",
    "\n",
    "    ==========\n",
    "    Parameters\n",
    "    ==========\n",
    "\n",
    "    double alpha : ratio\n",
    "    int n : number of terms\n",
    "    \"\"\"\n",
    "    \n",
    "    # local variables for this function \n",
    "    # with types and initial values\n",
    "    cdef double current = 1.0\n",
    "    cdef double sum = current\n",
    "    cdef int i\n",
    "    \n",
    "    # accumulation loop\n",
    "    for i in range(n):\n",
    "        # current term of a geometric sequence\n",
    "        current *= alpha\n",
    "        # accumulation\n",
    "        sum += current\n",
    "\n",
    "    # sum of the geometric sequence    \n",
    "    return sum\n",
    "\n"
   ]
  },
  {
   "cell_type": "markdown",
   "metadata": {},
   "source": [
    "* As you can see, cython version has type information."
   ]
  },
  {
   "cell_type": "markdown",
   "metadata": {},
   "source": [
    "* Let's try calling the cython function"
   ]
  },
  {
   "cell_type": "code",
   "execution_count": null,
   "metadata": {
    "scrolled": true
   },
   "outputs": [],
   "source": [
    "# measure time of computation\n",
    "# repeating if necessary\n",
    "%timeit -n5 -r5 geo_prog_cython(0.5, 5)\n",
    "\n"
   ]
  },
  {
   "cell_type": "code",
   "execution_count": null,
   "metadata": {},
   "outputs": [],
   "source": [
    "?timeit\n"
   ]
  },
  {
   "cell_type": "markdown",
   "metadata": {},
   "source": [
    "* To compare the computation time, let's prepare a python version."
   ]
  },
  {
   "cell_type": "code",
   "execution_count": null,
   "metadata": {},
   "outputs": [],
   "source": [
    "def geo_prog_python(alpha, n):\n",
    "    \"\"\"\n",
    "    Sum of a geographic sequence\n",
    "    Python version\n",
    "\n",
    "    ==========\n",
    "    Parameters\n",
    "    ==========\n",
    "\n",
    "    alpha : ratio\n",
    "    n : number of terms\n",
    "    \"\"\"    \n",
    "\n",
    "    # initialize\n",
    "    current = 1.0\n",
    "    sum = current\n",
    "    \n",
    "    # accumulation loop\n",
    "    for i in range(n):\n",
    "        current *= alpha\n",
    "        # accumulation\n",
    "        sum += current\n",
    "    return sum\n",
    "\n"
   ]
  },
  {
   "cell_type": "code",
   "execution_count": null,
   "metadata": {},
   "outputs": [],
   "source": [
    "# measure time of computation\n",
    "# repeating if necessary\n",
    "%timeit -n5 -r5 geo_prog_python(0.5, 5)\n",
    "\n"
   ]
  },
  {
   "cell_type": "markdown",
   "metadata": {},
   "source": [
    "* Can you see the benefit?"
   ]
  },
  {
   "cell_type": "markdown",
   "metadata": {},
   "source": [
    "* Here `%%cython` command is doing all the [plumbing](http://blog.yclin.me/gsoc/2016/07/23/Cython-IPython/) for us.\n",
    "* Under the hood, [more](https://cython.readthedocs.io/en/latest/src/userguide/source_files_and_compilation.html) is going on as we may see later."
   ]
  },
  {
   "cell_type": "markdown",
   "metadata": {},
   "source": [
    "## Visualizing"
   ]
  },
  {
   "cell_type": "markdown",
   "metadata": {},
   "source": [
    "* `matplotlib` can visualize results from cython functions."
   ]
  },
  {
   "cell_type": "markdown",
   "metadata": {},
   "source": [
    "* Following code presents Euler's method simulation."
   ]
  },
  {
   "cell_type": "code",
   "execution_count": null,
   "metadata": {},
   "outputs": [],
   "source": [
    "%load_ext Cython\n",
    "# Repeated to help locating\n",
    "\n"
   ]
  },
  {
   "cell_type": "code",
   "execution_count": null,
   "metadata": {},
   "outputs": [],
   "source": [
    "# simulation parameters\n",
    "t_start_sec = 0\n",
    "t_end_sec = 10\n",
    "delta_t_sec = 1e-3\n",
    "\n"
   ]
  },
  {
   "cell_type": "code",
   "execution_count": null,
   "metadata": {},
   "outputs": [],
   "source": [
    "%%cython --annotate\n",
    "# with command above, ipython would regard this cell as cython\n",
    "# cell magic command \"%%\" must be on the first line of the cell\n",
    "# --annotate option would present c code from the cython code\n",
    "\n",
    "# https://stackoverflow.com/questions/29036068/how-to-expose-a-numpy-array-from-c-array-in-cython\n",
    "cimport numpy as np\n",
    "# for cimport, please see:\n",
    "# https://stackoverflow.com/questions/29311207/cython-compilation-import-vs-cimport\n",
    "# it would make C API available for np.ndarray[] later\n",
    "import numpy as np\n",
    "# for np.empty in this case\n",
    "\n",
    "\n",
    "def diff_eq(double xi):\n",
    "    \"\"\"\n",
    "    Differential equation to solve\n",
    "    x' + x = 0\n",
    "    x' = - x\n",
    "    \"\"\"\n",
    "\n",
    "    # dx/dt + x = 0\n",
    "    # return value == result of this function\n",
    "    return -xi\n",
    "\n",
    "\n",
    "def euler_cython_numpy_array(double ti_sec=0.0, double te_sec=10, double delta_t_sec=1e-3):\n",
    "    \"\"\"\n",
    "    Cython + Numpy Simulation\n",
    "    Euler's method\n",
    "    \n",
    "    ===============\n",
    "    Input arguments\n",
    "    ===============\n",
    "    ti_sec : start time\n",
    "    te_sec : end time\n",
    "    delta_t_sec : time step\n",
    "    \"\"\"\n",
    "\n",
    "    # initial values\n",
    "    # inital value\n",
    "    cdef double x0 = 1.0\n",
    "    \n",
    "    # time variable\n",
    "    cdef double t = ti_sec\n",
    "    \n",
    "    # number of time steps\n",
    "    cdef int n = int((te_sec - ti_sec) / delta_t_sec) + 1\n",
    "    # time step\n",
    "    cdef int i = 0\n",
    "    \n",
    "    # https://stackoverflow.com/questions/25974975/cython-c-array-initialization\n",
    "    # simulation time\n",
    "    cdef np.ndarray [double, ndim=1, mode=\"c\"] result_t = np.empty(n)\n",
    "    # state variable \n",
    "    cdef np.ndarray [double, ndim=1, mode=\"c\"] result_x = np.empty(n)\n",
    "    \n",
    "    # local variable for x'\n",
    "    cdef double dx_dt = 0\n",
    "    \n",
    "    # initial values of time and state\n",
    "    result_t[0] = ti_sec\n",
    "    result_x[0] = x0\n",
    "    \n",
    "    # time step loop\n",
    "    for i in range(1, n):\n",
    "        # slope\n",
    "        dx_dt = diff_eq(result_x[i-1])\n",
    "        # state variable of next time step\n",
    "        result_x[i] = result_x[i-1] + dx_dt * delta_t_sec\n",
    "        # time step\n",
    "        result_t[i] = result_t[i-1] + delta_t_sec\n",
    "\n",
    "    # result of simulation\n",
    "    return result_t, result_x\n",
    "\n"
   ]
  },
  {
   "cell_type": "markdown",
   "metadata": {},
   "source": [
    "* To compare, following cell prepares an equivalent simulation in python."
   ]
  },
  {
   "cell_type": "code",
   "execution_count": null,
   "metadata": {},
   "outputs": [],
   "source": [
    "def diff_eq_python(xi):\n",
    "\n",
    "    # dx/dt + x = 0\n",
    "    # dx/dt = - x\n",
    "    return -xi\n",
    "\n",
    "\n",
    "def euler_python(ti_sec = 0.0, te_sec = 10.0, delta_t_sec = 1e-3):\n",
    "\n",
    "    # initial value\n",
    "    x0 = 1.0\n",
    "    \n",
    "    # number of time steps\n",
    "    n = int((te_sec - ti_sec) / delta_t_sec) + 1\n",
    "    \n",
    "    # prepare for buffers before the loop\n",
    "    result_t = [0.0] * n\n",
    "    result_x = [0.0] * n\n",
    "    \n",
    "    # set initial value\n",
    "    result_t[0] = ti_sec\n",
    "    result_x[0] = x0\n",
    "    \n",
    "    # time step loop\n",
    "    for i in range(1, n):\n",
    "        dx_dt = diff_eq_python(result_x[i-1])\n",
    "        result_x[i] = result_x[i-1] + dx_dt * delta_t_sec\n",
    "        result_t[i] = result_t[i-1] + delta_t_sec\n",
    "\n",
    "    return result_t, result_x\n",
    "\n"
   ]
  },
  {
   "cell_type": "markdown",
   "metadata": {},
   "source": [
    "* Let's run both cython and python versions"
   ]
  },
  {
   "cell_type": "code",
   "execution_count": null,
   "metadata": {},
   "outputs": [],
   "source": [
    "%%time\n",
    "# measure time to calculate\n",
    "\n",
    "t_cy_np, x_cy_np = euler_cython_numpy_array(\n",
    "    t_start_sec,\n",
    "    t_end_sec,\n",
    "    delta_t_sec,\n",
    ")\n",
    "\n"
   ]
  },
  {
   "cell_type": "code",
   "execution_count": null,
   "metadata": {},
   "outputs": [],
   "source": [
    "%%time\n",
    "# measure time to calculate\n",
    "\n",
    "t_py, x_py = euler_python(\n",
    "    t_start_sec,\n",
    "    t_end_sec,\n",
    "    delta_t_sec,\n",
    ")\n",
    "\n"
   ]
  },
  {
   "cell_type": "markdown",
   "metadata": {},
   "source": [
    "* Let's plot both results"
   ]
  },
  {
   "cell_type": "code",
   "execution_count": null,
   "metadata": {},
   "outputs": [],
   "source": [
    "# to plot properly, may need to separate this line\n",
    "import pylab as py\n",
    "\n"
   ]
  },
  {
   "cell_type": "code",
   "execution_count": null,
   "metadata": {},
   "outputs": [],
   "source": [
    "py.plot(t_cy_np, x_cy_np, 'o', label='cython numpy')\n",
    "py.plot(t_py, x_py, '-', label='python')\n",
    "\n",
    "py.grid(True)\n",
    "py.xlabel('t')\n",
    "py.ylabel('y')\n",
    "py.legend(loc=0)\n",
    "\n",
    "py.show()\n",
    "\n"
   ]
  },
  {
   "cell_type": "code",
   "execution_count": null,
   "metadata": {},
   "outputs": [],
   "source": [
    "# measure time to calculate\n",
    "# -o makes the result available as output\n",
    "time_cython_dynamic_numpy = %timeit -n5 -r5 -o t_np, x_np = euler_cython_numpy_array(t_start_sec, t_end_sec, delta_t_sec,)\n",
    "\n"
   ]
  },
  {
   "cell_type": "code",
   "execution_count": null,
   "metadata": {},
   "outputs": [],
   "source": [
    "# %timeit is a magic command to measure time\n",
    "# -o makes the result available as output\n",
    "time_python = %timeit -n5 -r5 -o t_py, x_py = euler_python(t_start_sec, t_end_sec, delta_t_sec,)\n",
    "\n"
   ]
  },
  {
   "cell_type": "markdown",
   "metadata": {},
   "source": [
    "## Calling C/C++ functions"
   ]
  },
  {
   "cell_type": "markdown",
   "metadata": {},
   "source": [
    "* Cython can call C/C++ functions as follows.\n",
    "[[ref0](https://cython.readthedocs.io/en/latest/src/userguide/external_C_code.html)]\n",
    ", [[ref1](https://stackoverflow.com/questions/37426534/how-can-i-import-an-external-c-function-into-an-ipython-notebook-using-cython)]\n",
    ", [[ref2](https://stackoverflow.com/questions/19260253/cython-compiling-error-multiple-definition-of-functions)]\n",
    ", [[ref3](https://media.readthedocs.org/pdf/cython/stable/cython.pdf)]\n",
    ", [[ref4](http://www.scipy-lectures.org/advanced/interfacing_with_c/interfacing_with_c.html)]\n",
    " \n",
    " "
   ]
  },
  {
   "cell_type": "markdown",
   "metadata": {},
   "source": [
    "### With `numpy` support"
   ]
  },
  {
   "cell_type": "markdown",
   "metadata": {},
   "source": [
    "* If we need to use matrices and vectors frequently, combining `numpy` and cython may be helpful."
   ]
  },
  {
   "cell_type": "markdown",
   "metadata": {},
   "source": [
    "* Let's take a look at an example of calculating cosine values."
   ]
  },
  {
   "cell_type": "markdown",
   "metadata": {},
   "source": [
    "* Following is the header file for the C source code."
   ]
  },
  {
   "cell_type": "code",
   "execution_count": null,
   "metadata": {},
   "outputs": [],
   "source": [
    "%%writefile cos_cython_numpy.h\n",
    "/*\n",
    "    2.8.5.2. Numpy Support, 2.8.5. Cython, http://www.scipy-lectures.org/advanced/interfacing_with_c/interfacing_with_c.html#id13\n",
    "*/\n",
    "void cos_cython_numpy_c_func(double * in_array, double * out_array, int size);\n",
    "\n"
   ]
  },
  {
   "cell_type": "markdown",
   "metadata": {},
   "source": [
    "* Following is the source code file to wrap with cython."
   ]
  },
  {
   "cell_type": "code",
   "execution_count": null,
   "metadata": {},
   "outputs": [],
   "source": [
    "%%writefile cos_cython_numpy.c\n",
    "/*\n",
    "2.8.5.2. Numpy Support, 2.8.5. Cython, http://www.scipy-lectures.org/advanced/interfacing_with_c/interfacing_with_c.html#id13\n",
    "*/\n",
    "\n",
    "#include <math.h>\n",
    "\n",
    "/*  Compute the cosine of each element in in_array, storing the result in\n",
    " *  out_array. */\n",
    "void cos_cython_numpy_c_func(double * in_array, double * out_array, int size){\n",
    "    int i;\n",
    "    for(i=0;i<size;i++){\n",
    "        out_array[i] = cos(in_array[i]);\n",
    "    }\n",
    "}\n",
    "\n"
   ]
  },
  {
   "cell_type": "markdown",
   "metadata": {},
   "source": [
    "* Following is the cython `.pyx` file calling the C function."
   ]
  },
  {
   "cell_type": "code",
   "execution_count": null,
   "metadata": {},
   "outputs": [],
   "source": [
    "%%writefile _cos_cython_numpy.pyx\n",
    "\"\"\" Example of wrapping a C function that takes C double arrays as input using\n",
    "    the Numpy declarations from Cython \n",
    "    Valentin Haenel, 2.8.5.2. Numpy Support, 2.8.5. Cython, Scipy Lectures, Oct 18 2016, [Online] \n",
    "        Available: http://www.scipy-lectures.org/advanced/interfacing_with_c/interfacing_with_c.html#id13 \n",
    "\"\"\"\n",
    "\n",
    "\"\"\" Example of wrapping a C function that takes C double arrays as input using\n",
    "    the Numpy declarations from Cython \"\"\"\n",
    "\n",
    "# cimport the Cython declarations for numpy\n",
    "cimport numpy as np\n",
    "\n",
    "# if you want to use the Numpy-C-API from Cython\n",
    "# (not strictly necessary for this example, but good practice)\n",
    "np.import_array()\n",
    "\n",
    "# cdefine the signature of our c function\n",
    "cdef extern from \"cos_cython_numpy.h\":\n",
    "    void cos_cython_numpy_c_func (double * in_array, double * out_array, int size)\n",
    "\n",
    "# create the wrapper code, with numpy type annotations\n",
    "def cos_cython_numpy_py_func(np.ndarray[double, ndim=1, mode=\"c\"] in_array not None,\n",
    "                     np.ndarray[double, ndim=1, mode=\"c\"] out_array not None):\n",
    "    cos_cython_numpy_c_func(<double*> np.PyArray_DATA(in_array),\n",
    "                <double*> np.PyArray_DATA(out_array),\n",
    "                in_array.shape[0])\n",
    "\n"
   ]
  },
  {
   "cell_type": "markdown",
   "metadata": {},
   "source": [
    "* Following is file `setup.py`.  Running this `.py` file would build the C function wrapper."
   ]
  },
  {
   "cell_type": "code",
   "execution_count": null,
   "metadata": {},
   "outputs": [],
   "source": [
    "%%writefile setup.py\n",
    "\n",
    "# Valentin Haenel, 2.8. Interfacing with C,  Scipy Lectures, Oct 18 2016, [Online]\n",
    "#   Available: http://www.scipy-lectures.org/advanced/interfacing_with_c/interfacing_with_c.html\n",
    "\n",
    "from distutils.core import setup, Extension\n",
    "# distutils : building and installing modules \n",
    "# https://docs.python.org/3/library/distutils.html\n",
    "\n",
    "import numpy\n",
    "from Cython.Distutils import build_ext\n",
    "\n",
    "print('for NumPy Support of Cython '.ljust(60, '#'))\n",
    "setup(cmdclass={'build_ext': build_ext},\n",
    "      ext_modules=[Extension(\"cos_cython_numpy\",\n",
    "                             sources=['_cos_cython_numpy.pyx', \"cos_cython_numpy.c\"],\n",
    "                             include_dirs=[numpy.get_include()])],\n",
    "      )\n",
    "\n"
   ]
  },
  {
   "cell_type": "code",
   "execution_count": null,
   "metadata": {
    "scrolled": true
   },
   "outputs": [],
   "source": [
    "%%bash\n",
    "\n",
    "# this is the command to build C function wrapper\n",
    "python setup.py build_ext --inplace\n",
    "# with --inplace, the module would be in the same folder.\n",
    "\n"
   ]
  },
  {
   "cell_type": "markdown",
   "metadata": {},
   "source": [
    "* Now let's import the module with c wrapper function"
   ]
  },
  {
   "cell_type": "code",
   "execution_count": null,
   "metadata": {
    "scrolled": true
   },
   "outputs": [],
   "source": [
    "# the cython module including C function\n",
    "import cos_cython_numpy\n",
    "\n",
    "# to visualize the result\n",
    "import pylab as py\n",
    "\n",
    "# allocate arrays externally\n",
    "x = py.arange(0, 2 * py.pi, 0.1)\n",
    "y = py.empty_like(x)\n",
    "\n",
    "# c wrapper function\n",
    "cos_cython_numpy.cos_cython_numpy_py_func(x, y)\n",
    "\n",
    "# plot the result\n",
    "py.plot(x, py.cos(x), 'o', label='cos numpy')\n",
    "py.plot(x, y, '.', label='cos cython')\n",
    "py.show()\n",
    "\n"
   ]
  },
  {
   "cell_type": "markdown",
   "metadata": {},
   "source": [
    "* Cleanup"
   ]
  },
  {
   "cell_type": "code",
   "execution_count": null,
   "metadata": {},
   "outputs": [],
   "source": [
    "%%bash\n",
    "rm cos_cython_numpy.h\n",
    "rm cos_cython_numpy.c\n",
    "rm _cos_cython_numpy.c\n",
    "rm _cos_cython_numpy.pyx\n",
    "rm setup.py\n",
    "rm cos_cython_numpy.*.so\n",
    "\n"
   ]
  },
  {
   "cell_type": "markdown",
   "metadata": {},
   "source": [
    "* Check results"
   ]
  },
  {
   "cell_type": "code",
   "execution_count": null,
   "metadata": {},
   "outputs": [],
   "source": [
    "cos = py.cos(x)\n",
    "\n",
    "for i in range(len(cos)):\n",
    "    assert y[i] == cos[i], \"Cython Result != Pylab Expected\"\n",
    "\n"
   ]
  },
  {
   "cell_type": "markdown",
   "metadata": {},
   "source": [
    "### Revisiting Euler's method"
   ]
  },
  {
   "cell_type": "markdown",
   "metadata": {},
   "source": [
    "* Let's try wrapping a C/C++ version of the Euler's method above."
   ]
  },
  {
   "cell_type": "markdown",
   "metadata": {},
   "source": [
    "* Following is the header file for the C source code."
   ]
  },
  {
   "cell_type": "code",
   "execution_count": null,
   "metadata": {},
   "outputs": [],
   "source": [
    "%%writefile euler_cython_numpy.h\n",
    "/*\n",
    "    2.8.5.2. Numpy Support, 2.8.5. Cython, http://www.scipy-lectures.org/advanced/interfacing_with_c/interfacing_with_c.html#id13\n",
    "*/\n",
    "void euler_cython_c_function(\n",
    "        const double t_start_sec, const double t_end_sec,\n",
    "        const double delta_t_sec,\n",
    "        const int size,\n",
    "        const double * result_t, const double * result_x\n",
    "    );\n",
    "\n"
   ]
  },
  {
   "cell_type": "markdown",
   "metadata": {},
   "source": [
    "* Following is a C source code example."
   ]
  },
  {
   "cell_type": "code",
   "execution_count": null,
   "metadata": {},
   "outputs": [],
   "source": [
    "%%writefile euler_cython_numpy.c\n",
    "#include    <assert.h>\n",
    "\n",
    "\n",
    "double diff_eq(double xi){\n",
    "    return -xi;\n",
    "}\n",
    "\n",
    "\n",
    "void euler_cython_c_function(\n",
    "        const double t_start_sec,\n",
    "        const double t_end_sec,\n",
    "        const double delta_t_sec,\n",
    "        const int size,\n",
    "        double * result_t, double * result_x\n",
    "    ){\n",
    "    // Simulation start and end time\n",
    "\n",
    "    // Initial state\n",
    "    double x0 = 1.0;\n",
    "    double dx_dt = 0.0;\n",
    "    \n",
    "    int i = 0;\n",
    "    \n",
    "    // Length of simulation\n",
    "    const int n = (int) ((t_end_sec - t_start_sec) / delta_t_sec) + 1;\n",
    "\n",
    "    // Check array size\n",
    "    assert(size > n);\n",
    "\n",
    "    // Set initial value    \n",
    "    result_t[0] = t_start_sec;\n",
    "    result_x[0] = x0;\n",
    "    \n",
    "    // Time step loop\n",
    "    // Watch the last value of i here\n",
    "    for (i=0; (n-1)>i; ++i){\n",
    "        // Calculate derivative\n",
    "        dx_dt = diff_eq(result_x[i]);\n",
    "\n",
    "        // Calculate state value of the next step\n",
    "        result_x[i+1] = result_x[i] + dx_dt * delta_t_sec;\n",
    "\n",
    "        // Calculate time of next step\n",
    "        result_t[i+1] = result_t[i] + delta_t_sec;\n",
    "    }\n",
    "\n",
    "    return;\n",
    "}\n",
    "\n"
   ]
  },
  {
   "cell_type": "markdown",
   "metadata": {},
   "source": [
    "* Following is file `_euler_cython_numpy.pyx`."
   ]
  },
  {
   "cell_type": "code",
   "execution_count": null,
   "metadata": {},
   "outputs": [],
   "source": [
    "%%writefile _euler_cython_numpy.pyx\n",
    "# cimport the Cython declarations for numpy\n",
    "cimport numpy as np\n",
    "# to dynamically allocate numpy.ndarray using np.empty()\n",
    "import numpy as np\n",
    "\n",
    "# Recommended practice for Numpy-C-API from Cython\n",
    "np.import_array()\n",
    "\n",
    "# cdefine the signature of our c function\n",
    "cdef extern from \"euler_cython_numpy.h\":\n",
    "    void euler_cython_c_function (\n",
    "        const double t_start_sec,\n",
    "        const double t_end_sec,\n",
    "        const double delta_t_sec,\n",
    "        const int size,\n",
    "        double * result_t, double * result_x,\n",
    "    )\n",
    "# now we can call euler_cython_c_function()\n",
    "\n",
    "# create the wrapper code, with numpy type annotations\n",
    "# a python program would call this function\n",
    "# and this function would call the C function\n",
    "def euler_cython_numpy_py_func(\n",
    "        double t_start_sec=0,\n",
    "        double t_end_sec=10,\n",
    "        double delta_t_sec=1e-3,\n",
    "    ):\n",
    "\n",
    "    # number of time steps\n",
    "    cdef int n = int((t_end_sec - t_start_sec) / delta_t_sec) + 1\n",
    "    \n",
    "    # preallocate output arrays\n",
    "    cdef np.ndarray[double, ndim=1, mode=\"c\"] t_array = np.empty(n)\n",
    "    cdef np.ndarray[double, ndim=1, mode=\"c\"] x_array = np.empty(n)\n",
    "\n",
    "    # calling C function\n",
    "    euler_cython_c_function(\n",
    "        t_start_sec,\n",
    "        t_end_sec,\n",
    "        delta_t_sec,\n",
    "        t_array.shape[0],\n",
    "        <double*> np.PyArray_DATA(t_array),\n",
    "        <double*> np.PyArray_DATA(x_array),\n",
    "    )\n",
    "    # <double*> np.PyArray_DATA(t_array)\n",
    "    # this line would obtain a C double pointer for t_array\n",
    "    # Cython MemoryView can be an alternative\n",
    "    # https://cython.readthedocs.io/en/latest/src/userguide/memoryviews.html\n",
    "\n",
    "    return t_array, x_array\n",
    "\n"
   ]
  },
  {
   "cell_type": "markdown",
   "metadata": {},
   "source": [
    "* Following is file `setup.py`."
   ]
  },
  {
   "cell_type": "code",
   "execution_count": null,
   "metadata": {},
   "outputs": [],
   "source": [
    "%%writefile setup.py\n",
    "\n",
    "# Valentin Haenel, 2.8. Interfacing with C,  Scipy Lectures, Oct 18 2016, [Online]\n",
    "#   Available: http://www.scipy-lectures.org/advanced/interfacing_with_c/interfacing_with_c.html\n",
    "\n",
    "from distutils.core import setup, Extension\n",
    "\n",
    "import numpy\n",
    "from Cython.Distutils import build_ext\n",
    "\n",
    "print('for NumPy Support of Cython '.ljust(60, '#'))\n",
    "setup(cmdclass={'build_ext': build_ext},\n",
    "      ext_modules=[\n",
    "                  Extension(\n",
    "                        \"euler_cython_numpy\", \n",
    "                        sources=['_euler_cython_numpy.pyx', \"euler_cython_numpy.c\"], \n",
    "                        include_dirs=[numpy.get_include()]\n",
    "                  ),\n",
    "            ],\n",
    "      )\n",
    "\n"
   ]
  },
  {
   "cell_type": "markdown",
   "metadata": {},
   "source": [
    "* Now build the module."
   ]
  },
  {
   "cell_type": "code",
   "execution_count": null,
   "metadata": {
    "scrolled": true
   },
   "outputs": [],
   "source": [
    "%%bash\n",
    "python setup.py build_ext --inplace\n",
    "\n"
   ]
  },
  {
   "cell_type": "markdown",
   "metadata": {},
   "source": [
    "* Let's import the cython c wrap module, run the simulation, and plot the results."
   ]
  },
  {
   "cell_type": "code",
   "execution_count": null,
   "metadata": {
    "scrolled": true
   },
   "outputs": [],
   "source": [
    "import pylab as py\n",
    "import euler_cython_numpy as cwrap\n",
    "\n",
    "# call the simulation function\n",
    "t_cy_wrap, x_cy_wrap = cwrap.euler_cython_numpy_py_func(\n",
    "    t_start_sec,\n",
    "    t_end_sec,\n",
    "    delta_t_sec,\n",
    ")\n",
    "\n",
    "# plot result from python simulation\n",
    "py.plot(t_py, x_py, 'o', label='python')\n",
    "\n",
    "# plot result from cython + numpy\n",
    "py.plot(t_cy_np, x_cy_np, '.', label='cython numpy')\n",
    "\n",
    "# plot result from cython c wrapper function\n",
    "py.plot(t_cy_wrap, x_cy_wrap, '-', label='cython wrap')\n",
    "\n",
    "py.legend(loc=0)\n",
    "py.grid(True)\n",
    "py.show()\n",
    "\n"
   ]
  },
  {
   "cell_type": "markdown",
   "metadata": {},
   "source": [
    "* Let's compare the calculation time again."
   ]
  },
  {
   "cell_type": "code",
   "execution_count": null,
   "metadata": {
    "scrolled": true
   },
   "outputs": [],
   "source": [
    "# cython wrap with memory allocation\n",
    "# -o makes the result available as output\n",
    "time_c_wrap_malloc = %timeit -n5 -r5 -o t_cy_wrap, x_cy_wrap = cwrap.euler_cython_numpy_py_func(t_start_sec, t_end_sec, delta_t_sec,)\n",
    "\n"
   ]
  },
  {
   "cell_type": "markdown",
   "metadata": {},
   "source": [
    "* Clean up the files."
   ]
  },
  {
   "cell_type": "code",
   "execution_count": null,
   "metadata": {},
   "outputs": [],
   "source": [
    "%%bash\n",
    "rm euler_cython_numpy.h\n",
    "rm euler_cython_numpy.c\n",
    "rm _euler_cython_numpy.c\n",
    "rm _euler_cython_numpy.pyx\n",
    "rm setup.py\n",
    "rm euler_cython_numpy.*.so\n",
    "\n"
   ]
  },
  {
   "cell_type": "markdown",
   "metadata": {},
   "source": [
    "* Check array type and dimension size"
   ]
  },
  {
   "cell_type": "code",
   "execution_count": null,
   "metadata": {},
   "outputs": [],
   "source": [
    "assert isinstance(t_cy_wrap, py.ndarray), \"t is not a numpy.ndarray\"\n",
    "assert isinstance(x_cy_wrap, py.ndarray), \"x is not a numpy.ndarray\"\n",
    "\n",
    "# for now expect 1-dimensional arrays\n",
    "assert 1 == t_cy_wrap.ndim, \"t dimension > 1\"\n",
    "assert 1 == x_cy_wrap.ndim, \"x dimension > 1\"\n",
    "\n"
   ]
  },
  {
   "cell_type": "markdown",
   "metadata": {},
   "source": [
    "* Check each element of the results"
   ]
  },
  {
   "cell_type": "code",
   "execution_count": null,
   "metadata": {},
   "outputs": [],
   "source": [
    "for i in range(len(t_py)):\n",
    "    assert t_cy_np[i] == t_py[i], f\"t[{i}] Cython NumPy Result f{t_cy_np[i]} != Python Result f{t_py[i]}\\n\"\n",
    "    assert x_cy_np[i] == x_py[i], f\"x[{i}] Cython NumPy Result f{x_cy_np[i]} != Python Result f{x_py[i]}\\n\"\n",
    "    assert t_cy_wrap[i] == t_py[i], f\"t[{i}] Cython C Wrap Result f{t_cy_wrap[i]} != Python Result f{t_py[i]}\\n\"\n",
    "    assert x_cy_wrap[i] == x_py[i], f\"x[{i}] Cython C Wrap Result f{x_cy_wrap[i]} != Python Result f{x_py[i]}\\n\"\n",
    "\n",
    "assert abs(t_py[-1] - t_end_sec) < (0.5 * delta_t_sec), f\"t_end_sec = {t_end_sec}, t_py[-1] = {t_py[-1]}\"\n",
    "assert abs(t_cy_np[-1] - t_end_sec) < (0.5 * delta_t_sec), f\"t_end_sec = {t_end_sec}, t_cy_np[-1] = {t_cy_np[-1]}\"\n",
    "assert abs(t_cy_wrap[-1] - t_end_sec) < (0.5 * delta_t_sec), f\"t_end_sec = {t_end_sec}, t_cy_wrap[-1] = {t_cy_wrap[-1]}\"\n",
    "\n"
   ]
  },
  {
   "cell_type": "markdown",
   "metadata": {},
   "source": [
    "* Let's try different simulation time"
   ]
  },
  {
   "cell_type": "code",
   "execution_count": null,
   "metadata": {
    "scrolled": true
   },
   "outputs": [],
   "source": [
    "import pylab as py\n",
    "import euler_cython_numpy as cwrap\n",
    "\n",
    "\n",
    "t_start_2_sec = 0.0\n",
    "t_end_2_sec   = 1.0\n",
    "delta_t_2_sec = 2.0 ** (-10)\n",
    "\n",
    "# cython numpy\n",
    "t_2_np, x_2_np = euler_cython_numpy_array(\n",
    "    t_start_2_sec, t_end_2_sec, delta_t_2_sec,\n",
    ")\n",
    "\n",
    "# python list\n",
    "t_2_py, x_2_py = euler_python(\n",
    "    t_start_2_sec, t_end_2_sec, delta_t_2_sec,\n",
    ")\n",
    "\n",
    "# cython C wrap\n",
    "t_2_cy_wrap, x_2_cy_wrap = cwrap.euler_cython_numpy_py_func(\n",
    "    t_start_2_sec, t_end_2_sec, delta_t_2_sec,\n",
    ")\n",
    "\n",
    "# plots\n",
    "py.plot(t_2_py, x_2_py, 'o', label='python list')\n",
    "py.plot(t_2_np, x_2_np, '.', label='cython numpy')\n",
    "py.plot(t_2_cy_wrap, x_2_cy_wrap, '-', label='cython wrap')\n",
    "\n",
    "py.legend(loc=0)\n",
    "py.grid(True)\n",
    "py.show()\n",
    "\n"
   ]
  },
  {
   "cell_type": "markdown",
   "metadata": {},
   "source": [
    "* Let's check if cython numpy result correct"
   ]
  },
  {
   "cell_type": "code",
   "execution_count": null,
   "metadata": {},
   "outputs": [],
   "source": [
    "for i in range(len(t_2_py)):\n",
    "    assert t_2_np[i] == t_2_py[i], f\"t[{i}] Cython NumPy Result f{t_2_np[i]} != Python Result f{t_2_py[i]}\\n\"\n",
    "    assert x_2_np[i] == x_2_py[i], f\"x[{i}] Cython NumPy Result f{x_2_np[i]} != Python Result f{x_2_py[i]}\\n\"\n",
    "    assert t_2_cy_wrap[i] == t_2_py[i], f\"t[{i}] Cython C Wrap Result f{t_2_cy_wrap[i]} != Python Result f{t_2_py[i]}\\n\"\n",
    "    assert x_2_cy_wrap[i] == x_2_py[i], f\"x[{i}] Cython C Wrap Result f{x_2_cy_wrap[i]} != Python Result f{x_2_py[i]}\\n\"\n",
    "\n",
    "assert abs(t_2_py[-1] - t_end_2_sec) < (0.5 * delta_t_2_sec), f\"t_end_2_sec = {t_end_2_sec}, t_2_py[-1] = {t_2_py[-1]}\"\n",
    "assert abs(t_2_np[-1] - t_end_2_sec) < (0.5 * delta_t_2_sec), f\"t_end_2_sec = {t_end_2_sec}, t_2_np[-1] = {t_2_np[-1]}\"\n",
    "assert abs(t_2_cy_wrap[-1] - t_end_2_sec) < (0.5 * delta_t_2_sec), f\"t_end_2_sec = {t_end_2_sec}, t_2_cy_wrap[-1] = {t_2_cy_wrap[-1]}\"\n",
    "\n"
   ]
  },
  {
   "cell_type": "markdown",
   "metadata": {},
   "source": [
    "* Let's compare the computation times of different versions:"
   ]
  },
  {
   "cell_type": "code",
   "execution_count": null,
   "metadata": {
    "scrolled": true
   },
   "outputs": [],
   "source": [
    "import IPython.display as disp\n",
    "\n",
    "disp.display(\n",
    "    disp.Markdown(\n",
    "        '\\n'.join([\n",
    "            \"| type | result |\",\n",
    "            \"|:-----:|:-----:|\",\n",
    "            f\"| cython c wrap (with memory allocation) | {time_c_wrap_malloc} |\",\n",
    "            f\"| cython dynamic NumPy | {time_cython_dynamic_numpy} |\",\n",
    "            f\"| python list | {time_python} |\",\n",
    "            ]\n",
    "        )\n",
    "    )\n",
    ")\n",
    "\n"
   ]
  },
  {
   "cell_type": "markdown",
   "metadata": {},
   "source": [
    "## Python Control Open Source Project"
   ]
  },
  {
   "cell_type": "markdown",
   "metadata": {},
   "source": [
    "* Nowadays in late 2010s, there is an open source project of [**python-control**](https://github.com/python-control/)."
   ]
  },
  {
   "cell_type": "markdown",
   "metadata": {},
   "source": [
    "* The objective is to develop a useful tool for control engineers in python."
   ]
  },
  {
   "cell_type": "markdown",
   "metadata": {},
   "source": [
    "* One of the challenges is a numerical library named [**Slycot**](https://github.com/python-control/Slycot) mostly in Fortran."
   ]
  },
  {
   "cell_type": "markdown",
   "metadata": {},
   "source": [
    "* Slycot uses other numerical libraries such as **BLAS** and **LAPACK** also in Fortran."
   ]
  },
  {
   "cell_type": "markdown",
   "metadata": {},
   "source": [
    "* It would be noteworthy that `numpy` of SciPy Stack also includes **BLAS** and **LAPACK**."
   ]
  },
  {
   "cell_type": "markdown",
   "metadata": {},
   "source": [
    "* Please refer to [**python-control**](https://github.com/python-control/python-control) and [**Slycot**](https://github.com/python-control/Slycot) for more information."
   ]
  },
  {
   "cell_type": "markdown",
   "metadata": {},
   "source": [
    "## Exercise"
   ]
  },
  {
   "cell_type": "markdown",
   "metadata": {},
   "source": [
    "### 00 Allocation in `.pyx`"
   ]
  },
  {
   "cell_type": "markdown",
   "metadata": {},
   "source": [
    "* In the cosine example, see if you can pre-allocate output array in `.pyx` file."
   ]
  },
  {
   "cell_type": "markdown",
   "metadata": {},
   "source": [
    "### 01 Other numerical methods"
   ]
  },
  {
   "cell_type": "markdown",
   "metadata": {},
   "source": [
    "* From the Euler's method example above, implement other numerical methods and compare the performance. "
   ]
  },
  {
   "cell_type": "code",
   "execution_count": null,
   "metadata": {},
   "outputs": [],
   "source": []
  }
 ],
 "metadata": {
  "kernelspec": {
   "display_name": "Python 3",
   "language": "python",
   "name": "python3"
  },
  "language_info": {
   "codemirror_mode": {
    "name": "ipython",
    "version": 3
   },
   "file_extension": ".py",
   "mimetype": "text/x-python",
   "name": "python",
   "nbconvert_exporter": "python",
   "pygments_lexer": "ipython3",
   "version": "3.6.5"
  }
 },
 "nbformat": 4,
 "nbformat_minor": 2
}
